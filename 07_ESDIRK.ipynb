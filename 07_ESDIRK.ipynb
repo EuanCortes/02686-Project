{
 "cells": [
  {
   "cell_type": "code",
   "execution_count": 1,
   "id": "00a5d20e",
   "metadata": {},
   "outputs": [],
   "source": [
    "from TestProblems import prey_predator_model, van_der_pol_model, CSTR_1state_model, CSTR_3state_model\n",
    "from Solvers import ESDIRK\n",
    "from scipy.integrate import solve_ivp\n",
    "import numpy as np\n",
    "import matplotlib.pyplot as plt"
   ]
  },
  {
   "cell_type": "markdown",
   "id": "0a04278f",
   "metadata": {},
   "source": [
    "# ESDIRK23"
   ]
  },
  {
   "cell_type": "markdown",
   "id": "2d77c96c",
   "metadata": {},
   "source": []
  }
 ],
 "metadata": {
  "kernelspec": {
   "display_name": "Python 3",
   "language": "python",
   "name": "python3"
  },
  "language_info": {
   "codemirror_mode": {
    "name": "ipython",
    "version": 3
   },
   "file_extension": ".py",
   "mimetype": "text/x-python",
   "name": "python",
   "nbconvert_exporter": "python",
   "pygments_lexer": "ipython3",
   "version": "3.10.7"
  }
 },
 "nbformat": 4,
 "nbformat_minor": 5
}
